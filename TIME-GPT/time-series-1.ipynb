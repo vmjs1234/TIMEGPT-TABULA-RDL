{
  "cells": [
    {
      "cell_type": "markdown",
      "metadata": {
        "id": "view-in-github",
        "colab_type": "text"
      },
      "source": [
        "<a href=\"https://colab.research.google.com/github/vmjs1234/TIMEGPT-TABULA-RDL/blob/main/TIME-GPT/time-series-1.ipynb\" target=\"_parent\"><img src=\"https://colab.research.google.com/assets/colab-badge.svg\" alt=\"Open In Colab\"/></a>"
      ]
    },
    {
      "cell_type": "markdown",
      "source": [
        "#Time series multivariate colab"
      ],
      "metadata": {
        "id": "P-es4oH8a74B"
      },
      "id": "P-es4oH8a74B"
    },
    {
      "cell_type": "markdown",
      "source": [
        "https://www.kaggle.com/datasets/atulanandjha/national-stock-exchange-time-series"
      ],
      "metadata": {
        "id": "bE2erOhZatqM"
      },
      "id": "bE2erOhZatqM"
    },
    {
      "cell_type": "code",
      "execution_count": 1,
      "id": "2ea57e70",
      "metadata": {
        "id": "2ea57e70",
        "outputId": "8a838126-41cc-42c1-aa0f-48df20d51d3b",
        "colab": {
          "base_uri": "https://localhost:8080/"
        }
      },
      "outputs": [
        {
          "output_type": "stream",
          "name": "stdout",
          "text": [
            "\u001b[?25l   \u001b[90m━━━━━━━━━━━━━━━━━━━━━━━━━━━━━━━━━━━━━━━━\u001b[0m \u001b[32m0.0/41.4 kB\u001b[0m \u001b[31m?\u001b[0m eta \u001b[36m-:--:--\u001b[0m\r\u001b[2K   \u001b[90m━━━━━━━━━━━━━━━━━━━━━━━━━━━━━━━━━━━━━━━━\u001b[0m \u001b[32m41.4/41.4 kB\u001b[0m \u001b[31m1.9 MB/s\u001b[0m eta \u001b[36m0:00:00\u001b[0m\n",
            "\u001b[?25h"
          ]
        }
      ],
      "source": [
        "#| hide\n",
        "!pip install -Uqq nixtla"
      ]
    },
    {
      "cell_type": "code",
      "execution_count": 2,
      "id": "2a5dad94",
      "metadata": {
        "id": "2a5dad94",
        "colab": {
          "base_uri": "https://localhost:8080/"
        },
        "outputId": "7f2e9c61-84ce-45c2-ac33-65c9cd6c6949"
      },
      "outputs": [
        {
          "output_type": "stream",
          "name": "stderr",
          "text": [
            "/usr/local/lib/python3.10/dist-packages/dask/dataframe/__init__.py:42: FutureWarning: \n",
            "Dask dataframe query planning is disabled because dask-expr is not installed.\n",
            "\n",
            "You can install it with `pip install dask[dataframe]` or `conda install dask`.\n",
            "This will raise in a future version.\n",
            "\n",
            "  warnings.warn(msg, FutureWarning)\n"
          ]
        }
      ],
      "source": [
        "#| hide\n",
        "from nixtla.utils import in_colab"
      ]
    },
    {
      "cell_type": "code",
      "execution_count": 3,
      "id": "9c16af54",
      "metadata": {
        "id": "9c16af54"
      },
      "outputs": [],
      "source": [
        "#| hide\n",
        "IN_COLAB = in_colab()"
      ]
    },
    {
      "cell_type": "code",
      "execution_count": 4,
      "id": "49489d94",
      "metadata": {
        "id": "49489d94"
      },
      "outputs": [],
      "source": [
        "#| hide\n",
        "if not IN_COLAB:\n",
        "    from nixtla.utils import colab_badge\n",
        "    from dotenv import load_dotenv"
      ]
    },
    {
      "cell_type": "markdown",
      "id": "41bd465f-638b-4fc0-9a4b-1a93207a8ca5",
      "metadata": {
        "id": "41bd465f-638b-4fc0-9a4b-1a93207a8ca5"
      },
      "source": [
        "# Multiple series forecasting"
      ]
    },
    {
      "cell_type": "markdown",
      "id": "752a293c-d477-45e7-93d9-23fc15a23c8f",
      "metadata": {
        "id": "752a293c-d477-45e7-93d9-23fc15a23c8f"
      },
      "source": [
        "TimeGPT provides a robust solution for multi-series forecasting, which involves analyzing multiple data series concurrently, rather than a single one. The tool can be fine-tuned using a broad collection of series, enabling you to tailor the model to suit your specific needs or tasks.\n",
        "\n",
        "Note that the forecasts are still univariate. This means that although TimeGPT is a global model, it won't consider the inter-feature relationships within the target series. However, TimeGPT does support the use of exogenous variables such as categorical variables (e.g., category, brand), numerical variables (e.g., temperature, prices), or even special holidays.\n",
        "\n",
        "Let's see this in action."
      ]
    },
    {
      "cell_type": "code",
      "execution_count": 5,
      "id": "efa9185e-77b0-4e30-a4da-dc3f6a05da90",
      "metadata": {
        "id": "efa9185e-77b0-4e30-a4da-dc3f6a05da90"
      },
      "outputs": [],
      "source": [
        "#| echo: false\n",
        "if not IN_COLAB:\n",
        "    load_dotenv()\n",
        "    colab_badge('docs/tutorials/05_multiple_series')"
      ]
    },
    {
      "cell_type": "markdown",
      "id": "8fb870f5",
      "metadata": {
        "id": "8fb870f5"
      },
      "source": [
        "## 1. Import packages\n",
        "First, we install and import the required packages and initialize the Nixtla client."
      ]
    },
    {
      "cell_type": "markdown",
      "id": "61e6a645",
      "metadata": {
        "id": "61e6a645"
      },
      "source": [
        "As always, we start off by intializing an instance of `NixtlaClient`."
      ]
    },
    {
      "cell_type": "code",
      "execution_count": 6,
      "id": "ab7c94f5-3a29-4ae2-a8cb-7826dea92f3a",
      "metadata": {
        "id": "ab7c94f5-3a29-4ae2-a8cb-7826dea92f3a"
      },
      "outputs": [],
      "source": [
        "import pandas as pd\n",
        "from nixtla import NixtlaClient"
      ]
    },
    {
      "cell_type": "code",
      "execution_count": 7,
      "id": "4e8e00b3-df4d-49df-815c-58ebe3543974",
      "metadata": {
        "id": "4e8e00b3-df4d-49df-815c-58ebe3543974"
      },
      "outputs": [],
      "source": [
        "nixtla_client = NixtlaClient(\n",
        "    # defaults to os.environ.get(\"NIXTLA_API_KEY\")\n",
        "    api_key = 'nixak-fcqNO2C0XCBQQozD5OW6GzOw4wmvrNCoP2xTklrHEThEU8vvytDeHZulh4Ja99fmFgnTyywsPfkVJzxh'\n",
        ")"
      ]
    },
    {
      "cell_type": "code",
      "execution_count": 8,
      "id": "7b21c50f-fa94-49ba-b9c4-358d980dd462",
      "metadata": {
        "id": "7b21c50f-fa94-49ba-b9c4-358d980dd462"
      },
      "outputs": [],
      "source": [
        "#| hide\n",
        "if not IN_COLAB:\n",
        "    nixtla_client = NixtlaClient()"
      ]
    },
    {
      "cell_type": "markdown",
      "id": "4c1519c9",
      "metadata": {
        "id": "4c1519c9"
      },
      "source": [
        "## 2. Load the data"
      ]
    },
    {
      "cell_type": "markdown",
      "id": "2bd0934b-8b12-4c33-be3c-6b8d2bf86f54",
      "metadata": {
        "id": "2bd0934b-8b12-4c33-be3c-6b8d2bf86f54"
      },
      "source": [
        "The following dataset contains prices of different electricity markets in Europe.\n",
        "\n",
        "Mutliple series are automatically detected in TimeGPT using the `unique_id` column. This column contains labels for each series. If there are multiple unique values in that column, then it knows it is handling a multi-series scneario.\n",
        "\n",
        "In this particular case, the `unique_id` column contains the value BE, DE, FR, JPM, and NP."
      ]
    },
    {
      "cell_type": "code",
      "execution_count": 9,
      "id": "c9dea998-2507-4409-b063-2b06f38c0aba",
      "metadata": {
        "id": "c9dea998-2507-4409-b063-2b06f38c0aba",
        "outputId": "b93e3401-2c88-48fe-fa18-762c099a2104",
        "colab": {
          "base_uri": "https://localhost:8080/",
          "height": 330
        }
      },
      "outputs": [
        {
          "output_type": "execute_result",
          "data": {
            "text/plain": [
              "         Date Symbol Series  Prev Close     Open     High     Low     Last  \\\n",
              "0  2015-01-01   INFY     EQ     1972.55  1968.95  1982.00  1956.9  1971.00   \n",
              "1  2015-01-02   INFY     EQ     1974.40  1972.00  2019.05  1972.0  2017.95   \n",
              "2  2015-01-05   INFY     EQ     2013.20  2009.90  2030.00  1977.5  1996.00   \n",
              "3  2015-01-06   INFY     EQ     1995.90  1980.00  1985.00  1934.1  1965.10   \n",
              "4  2015-01-07   INFY     EQ     1954.20  1965.00  1974.75  1950.0  1966.05   \n",
              "\n",
              "     Close     VWAP   Volume      Turnover  Trades  Deliverable Volume  \\\n",
              "0  1974.40  1971.34   500691  9.870306e+13   14908              258080   \n",
              "1  2013.20  2003.25  1694580  3.394669e+14   54166             1249104   \n",
              "2  1995.90  2004.59  2484256  4.979911e+14   82694             1830962   \n",
              "3  1954.20  1954.82  2416829  4.724458e+14  108209             1772070   \n",
              "4  1963.55  1962.59  1812479  3.557162e+14   62463             1317720   \n",
              "\n",
              "   %Deliverble  \n",
              "0       0.5154  \n",
              "1       0.7371  \n",
              "2       0.7370  \n",
              "3       0.7332  \n",
              "4       0.7270  "
            ],
            "text/html": [
              "\n",
              "  <div id=\"df-3fe1d5ee-7778-4dbf-94fc-020bf2a8579a\" class=\"colab-df-container\">\n",
              "    <div>\n",
              "<style scoped>\n",
              "    .dataframe tbody tr th:only-of-type {\n",
              "        vertical-align: middle;\n",
              "    }\n",
              "\n",
              "    .dataframe tbody tr th {\n",
              "        vertical-align: top;\n",
              "    }\n",
              "\n",
              "    .dataframe thead th {\n",
              "        text-align: right;\n",
              "    }\n",
              "</style>\n",
              "<table border=\"1\" class=\"dataframe\">\n",
              "  <thead>\n",
              "    <tr style=\"text-align: right;\">\n",
              "      <th></th>\n",
              "      <th>Date</th>\n",
              "      <th>Symbol</th>\n",
              "      <th>Series</th>\n",
              "      <th>Prev Close</th>\n",
              "      <th>Open</th>\n",
              "      <th>High</th>\n",
              "      <th>Low</th>\n",
              "      <th>Last</th>\n",
              "      <th>Close</th>\n",
              "      <th>VWAP</th>\n",
              "      <th>Volume</th>\n",
              "      <th>Turnover</th>\n",
              "      <th>Trades</th>\n",
              "      <th>Deliverable Volume</th>\n",
              "      <th>%Deliverble</th>\n",
              "    </tr>\n",
              "  </thead>\n",
              "  <tbody>\n",
              "    <tr>\n",
              "      <th>0</th>\n",
              "      <td>2015-01-01</td>\n",
              "      <td>INFY</td>\n",
              "      <td>EQ</td>\n",
              "      <td>1972.55</td>\n",
              "      <td>1968.95</td>\n",
              "      <td>1982.00</td>\n",
              "      <td>1956.9</td>\n",
              "      <td>1971.00</td>\n",
              "      <td>1974.40</td>\n",
              "      <td>1971.34</td>\n",
              "      <td>500691</td>\n",
              "      <td>9.870306e+13</td>\n",
              "      <td>14908</td>\n",
              "      <td>258080</td>\n",
              "      <td>0.5154</td>\n",
              "    </tr>\n",
              "    <tr>\n",
              "      <th>1</th>\n",
              "      <td>2015-01-02</td>\n",
              "      <td>INFY</td>\n",
              "      <td>EQ</td>\n",
              "      <td>1974.40</td>\n",
              "      <td>1972.00</td>\n",
              "      <td>2019.05</td>\n",
              "      <td>1972.0</td>\n",
              "      <td>2017.95</td>\n",
              "      <td>2013.20</td>\n",
              "      <td>2003.25</td>\n",
              "      <td>1694580</td>\n",
              "      <td>3.394669e+14</td>\n",
              "      <td>54166</td>\n",
              "      <td>1249104</td>\n",
              "      <td>0.7371</td>\n",
              "    </tr>\n",
              "    <tr>\n",
              "      <th>2</th>\n",
              "      <td>2015-01-05</td>\n",
              "      <td>INFY</td>\n",
              "      <td>EQ</td>\n",
              "      <td>2013.20</td>\n",
              "      <td>2009.90</td>\n",
              "      <td>2030.00</td>\n",
              "      <td>1977.5</td>\n",
              "      <td>1996.00</td>\n",
              "      <td>1995.90</td>\n",
              "      <td>2004.59</td>\n",
              "      <td>2484256</td>\n",
              "      <td>4.979911e+14</td>\n",
              "      <td>82694</td>\n",
              "      <td>1830962</td>\n",
              "      <td>0.7370</td>\n",
              "    </tr>\n",
              "    <tr>\n",
              "      <th>3</th>\n",
              "      <td>2015-01-06</td>\n",
              "      <td>INFY</td>\n",
              "      <td>EQ</td>\n",
              "      <td>1995.90</td>\n",
              "      <td>1980.00</td>\n",
              "      <td>1985.00</td>\n",
              "      <td>1934.1</td>\n",
              "      <td>1965.10</td>\n",
              "      <td>1954.20</td>\n",
              "      <td>1954.82</td>\n",
              "      <td>2416829</td>\n",
              "      <td>4.724458e+14</td>\n",
              "      <td>108209</td>\n",
              "      <td>1772070</td>\n",
              "      <td>0.7332</td>\n",
              "    </tr>\n",
              "    <tr>\n",
              "      <th>4</th>\n",
              "      <td>2015-01-07</td>\n",
              "      <td>INFY</td>\n",
              "      <td>EQ</td>\n",
              "      <td>1954.20</td>\n",
              "      <td>1965.00</td>\n",
              "      <td>1974.75</td>\n",
              "      <td>1950.0</td>\n",
              "      <td>1966.05</td>\n",
              "      <td>1963.55</td>\n",
              "      <td>1962.59</td>\n",
              "      <td>1812479</td>\n",
              "      <td>3.557162e+14</td>\n",
              "      <td>62463</td>\n",
              "      <td>1317720</td>\n",
              "      <td>0.7270</td>\n",
              "    </tr>\n",
              "  </tbody>\n",
              "</table>\n",
              "</div>\n",
              "    <div class=\"colab-df-buttons\">\n",
              "\n",
              "  <div class=\"colab-df-container\">\n",
              "    <button class=\"colab-df-convert\" onclick=\"convertToInteractive('df-3fe1d5ee-7778-4dbf-94fc-020bf2a8579a')\"\n",
              "            title=\"Convert this dataframe to an interactive table.\"\n",
              "            style=\"display:none;\">\n",
              "\n",
              "  <svg xmlns=\"http://www.w3.org/2000/svg\" height=\"24px\" viewBox=\"0 -960 960 960\">\n",
              "    <path d=\"M120-120v-720h720v720H120Zm60-500h600v-160H180v160Zm220 220h160v-160H400v160Zm0 220h160v-160H400v160ZM180-400h160v-160H180v160Zm440 0h160v-160H620v160ZM180-180h160v-160H180v160Zm440 0h160v-160H620v160Z\"/>\n",
              "  </svg>\n",
              "    </button>\n",
              "\n",
              "  <style>\n",
              "    .colab-df-container {\n",
              "      display:flex;\n",
              "      gap: 12px;\n",
              "    }\n",
              "\n",
              "    .colab-df-convert {\n",
              "      background-color: #E8F0FE;\n",
              "      border: none;\n",
              "      border-radius: 50%;\n",
              "      cursor: pointer;\n",
              "      display: none;\n",
              "      fill: #1967D2;\n",
              "      height: 32px;\n",
              "      padding: 0 0 0 0;\n",
              "      width: 32px;\n",
              "    }\n",
              "\n",
              "    .colab-df-convert:hover {\n",
              "      background-color: #E2EBFA;\n",
              "      box-shadow: 0px 1px 2px rgba(60, 64, 67, 0.3), 0px 1px 3px 1px rgba(60, 64, 67, 0.15);\n",
              "      fill: #174EA6;\n",
              "    }\n",
              "\n",
              "    .colab-df-buttons div {\n",
              "      margin-bottom: 4px;\n",
              "    }\n",
              "\n",
              "    [theme=dark] .colab-df-convert {\n",
              "      background-color: #3B4455;\n",
              "      fill: #D2E3FC;\n",
              "    }\n",
              "\n",
              "    [theme=dark] .colab-df-convert:hover {\n",
              "      background-color: #434B5C;\n",
              "      box-shadow: 0px 1px 3px 1px rgba(0, 0, 0, 0.15);\n",
              "      filter: drop-shadow(0px 1px 2px rgba(0, 0, 0, 0.3));\n",
              "      fill: #FFFFFF;\n",
              "    }\n",
              "  </style>\n",
              "\n",
              "    <script>\n",
              "      const buttonEl =\n",
              "        document.querySelector('#df-3fe1d5ee-7778-4dbf-94fc-020bf2a8579a button.colab-df-convert');\n",
              "      buttonEl.style.display =\n",
              "        google.colab.kernel.accessAllowed ? 'block' : 'none';\n",
              "\n",
              "      async function convertToInteractive(key) {\n",
              "        const element = document.querySelector('#df-3fe1d5ee-7778-4dbf-94fc-020bf2a8579a');\n",
              "        const dataTable =\n",
              "          await google.colab.kernel.invokeFunction('convertToInteractive',\n",
              "                                                    [key], {});\n",
              "        if (!dataTable) return;\n",
              "\n",
              "        const docLinkHtml = 'Like what you see? Visit the ' +\n",
              "          '<a target=\"_blank\" href=https://colab.research.google.com/notebooks/data_table.ipynb>data table notebook</a>'\n",
              "          + ' to learn more about interactive tables.';\n",
              "        element.innerHTML = '';\n",
              "        dataTable['output_type'] = 'display_data';\n",
              "        await google.colab.output.renderOutput(dataTable, element);\n",
              "        const docLink = document.createElement('div');\n",
              "        docLink.innerHTML = docLinkHtml;\n",
              "        element.appendChild(docLink);\n",
              "      }\n",
              "    </script>\n",
              "  </div>\n",
              "\n",
              "\n",
              "<div id=\"df-0b2a30e1-a159-469e-89c1-0e2209308581\">\n",
              "  <button class=\"colab-df-quickchart\" onclick=\"quickchart('df-0b2a30e1-a159-469e-89c1-0e2209308581')\"\n",
              "            title=\"Suggest charts\"\n",
              "            style=\"display:none;\">\n",
              "\n",
              "<svg xmlns=\"http://www.w3.org/2000/svg\" height=\"24px\"viewBox=\"0 0 24 24\"\n",
              "     width=\"24px\">\n",
              "    <g>\n",
              "        <path d=\"M19 3H5c-1.1 0-2 .9-2 2v14c0 1.1.9 2 2 2h14c1.1 0 2-.9 2-2V5c0-1.1-.9-2-2-2zM9 17H7v-7h2v7zm4 0h-2V7h2v10zm4 0h-2v-4h2v4z\"/>\n",
              "    </g>\n",
              "</svg>\n",
              "  </button>\n",
              "\n",
              "<style>\n",
              "  .colab-df-quickchart {\n",
              "      --bg-color: #E8F0FE;\n",
              "      --fill-color: #1967D2;\n",
              "      --hover-bg-color: #E2EBFA;\n",
              "      --hover-fill-color: #174EA6;\n",
              "      --disabled-fill-color: #AAA;\n",
              "      --disabled-bg-color: #DDD;\n",
              "  }\n",
              "\n",
              "  [theme=dark] .colab-df-quickchart {\n",
              "      --bg-color: #3B4455;\n",
              "      --fill-color: #D2E3FC;\n",
              "      --hover-bg-color: #434B5C;\n",
              "      --hover-fill-color: #FFFFFF;\n",
              "      --disabled-bg-color: #3B4455;\n",
              "      --disabled-fill-color: #666;\n",
              "  }\n",
              "\n",
              "  .colab-df-quickchart {\n",
              "    background-color: var(--bg-color);\n",
              "    border: none;\n",
              "    border-radius: 50%;\n",
              "    cursor: pointer;\n",
              "    display: none;\n",
              "    fill: var(--fill-color);\n",
              "    height: 32px;\n",
              "    padding: 0;\n",
              "    width: 32px;\n",
              "  }\n",
              "\n",
              "  .colab-df-quickchart:hover {\n",
              "    background-color: var(--hover-bg-color);\n",
              "    box-shadow: 0 1px 2px rgba(60, 64, 67, 0.3), 0 1px 3px 1px rgba(60, 64, 67, 0.15);\n",
              "    fill: var(--button-hover-fill-color);\n",
              "  }\n",
              "\n",
              "  .colab-df-quickchart-complete:disabled,\n",
              "  .colab-df-quickchart-complete:disabled:hover {\n",
              "    background-color: var(--disabled-bg-color);\n",
              "    fill: var(--disabled-fill-color);\n",
              "    box-shadow: none;\n",
              "  }\n",
              "\n",
              "  .colab-df-spinner {\n",
              "    border: 2px solid var(--fill-color);\n",
              "    border-color: transparent;\n",
              "    border-bottom-color: var(--fill-color);\n",
              "    animation:\n",
              "      spin 1s steps(1) infinite;\n",
              "  }\n",
              "\n",
              "  @keyframes spin {\n",
              "    0% {\n",
              "      border-color: transparent;\n",
              "      border-bottom-color: var(--fill-color);\n",
              "      border-left-color: var(--fill-color);\n",
              "    }\n",
              "    20% {\n",
              "      border-color: transparent;\n",
              "      border-left-color: var(--fill-color);\n",
              "      border-top-color: var(--fill-color);\n",
              "    }\n",
              "    30% {\n",
              "      border-color: transparent;\n",
              "      border-left-color: var(--fill-color);\n",
              "      border-top-color: var(--fill-color);\n",
              "      border-right-color: var(--fill-color);\n",
              "    }\n",
              "    40% {\n",
              "      border-color: transparent;\n",
              "      border-right-color: var(--fill-color);\n",
              "      border-top-color: var(--fill-color);\n",
              "    }\n",
              "    60% {\n",
              "      border-color: transparent;\n",
              "      border-right-color: var(--fill-color);\n",
              "    }\n",
              "    80% {\n",
              "      border-color: transparent;\n",
              "      border-right-color: var(--fill-color);\n",
              "      border-bottom-color: var(--fill-color);\n",
              "    }\n",
              "    90% {\n",
              "      border-color: transparent;\n",
              "      border-bottom-color: var(--fill-color);\n",
              "    }\n",
              "  }\n",
              "</style>\n",
              "\n",
              "  <script>\n",
              "    async function quickchart(key) {\n",
              "      const quickchartButtonEl =\n",
              "        document.querySelector('#' + key + ' button');\n",
              "      quickchartButtonEl.disabled = true;  // To prevent multiple clicks.\n",
              "      quickchartButtonEl.classList.add('colab-df-spinner');\n",
              "      try {\n",
              "        const charts = await google.colab.kernel.invokeFunction(\n",
              "            'suggestCharts', [key], {});\n",
              "      } catch (error) {\n",
              "        console.error('Error during call to suggestCharts:', error);\n",
              "      }\n",
              "      quickchartButtonEl.classList.remove('colab-df-spinner');\n",
              "      quickchartButtonEl.classList.add('colab-df-quickchart-complete');\n",
              "    }\n",
              "    (() => {\n",
              "      let quickchartButtonEl =\n",
              "        document.querySelector('#df-0b2a30e1-a159-469e-89c1-0e2209308581 button');\n",
              "      quickchartButtonEl.style.display =\n",
              "        google.colab.kernel.accessAllowed ? 'block' : 'none';\n",
              "    })();\n",
              "  </script>\n",
              "</div>\n",
              "\n",
              "    </div>\n",
              "  </div>\n"
            ],
            "application/vnd.google.colaboratory.intrinsic+json": {
              "type": "dataframe",
              "variable_name": "df",
              "summary": "{\n  \"name\": \"df\",\n  \"rows\": 248,\n  \"fields\": [\n    {\n      \"column\": \"Date\",\n      \"properties\": {\n        \"dtype\": \"object\",\n        \"num_unique_values\": 248,\n        \"samples\": [\n          \"2015-02-19\",\n          \"2015-01-09\",\n          \"2015-09-23\"\n        ],\n        \"semantic_type\": \"\",\n        \"description\": \"\"\n      }\n    },\n    {\n      \"column\": \"Symbol\",\n      \"properties\": {\n        \"dtype\": \"category\",\n        \"num_unique_values\": 1,\n        \"samples\": [\n          \"INFY\"\n        ],\n        \"semantic_type\": \"\",\n        \"description\": \"\"\n      }\n    },\n    {\n      \"column\": \"Series\",\n      \"properties\": {\n        \"dtype\": \"category\",\n        \"num_unique_values\": 1,\n        \"samples\": [\n          \"EQ\"\n        ],\n        \"semantic_type\": \"\",\n        \"description\": \"\"\n      }\n    },\n    {\n      \"column\": \"Prev Close\",\n      \"properties\": {\n        \"dtype\": \"number\",\n        \"std\": 529.3968940761259,\n        \"min\": 937.5,\n        \"max\": 2324.7,\n        \"num_unique_values\": 244,\n        \"samples\": [\n          2142.85\n        ],\n        \"semantic_type\": \"\",\n        \"description\": \"\"\n      }\n    },\n    {\n      \"column\": \"Open\",\n      \"properties\": {\n        \"dtype\": \"number\",\n        \"std\": 530.5783422841523,\n        \"min\": 941.0,\n        \"max\": 2328.5,\n        \"num_unique_values\": 222,\n        \"samples\": [\n          1110.15\n        ],\n        \"semantic_type\": \"\",\n        \"description\": \"\"\n      }\n    },\n    {\n      \"column\": \"High\",\n      \"properties\": {\n        \"dtype\": \"number\",\n        \"std\": 534.7140880511713,\n        \"min\": 952.1,\n        \"max\": 2336.0,\n        \"num_unique_values\": 236,\n        \"samples\": [\n          2194.95\n        ],\n        \"semantic_type\": \"\",\n        \"description\": \"\"\n      }\n    },\n    {\n      \"column\": \"Low\",\n      \"properties\": {\n        \"dtype\": \"number\",\n        \"std\": 524.1948734455327,\n        \"min\": 932.65,\n        \"max\": 2292.05,\n        \"num_unique_values\": 235,\n        \"samples\": [\n          2153.45\n        ],\n        \"semantic_type\": \"\",\n        \"description\": \"\"\n      }\n    },\n    {\n      \"column\": \"Last\",\n      \"properties\": {\n        \"dtype\": \"number\",\n        \"std\": 529.4932759483157,\n        \"min\": 935.5,\n        \"max\": 2323.2,\n        \"num_unique_values\": 232,\n        \"samples\": [\n          1042.0\n        ],\n        \"semantic_type\": \"\",\n        \"description\": \"\"\n      }\n    },\n    {\n      \"column\": \"Close\",\n      \"properties\": {\n        \"dtype\": \"number\",\n        \"std\": 529.4681886030439,\n        \"min\": 937.5,\n        \"max\": 2324.7,\n        \"num_unique_values\": 244,\n        \"samples\": [\n          2193.8\n        ],\n        \"semantic_type\": \"\",\n        \"description\": \"\"\n      }\n    },\n    {\n      \"column\": \"VWAP\",\n      \"properties\": {\n        \"dtype\": \"number\",\n        \"std\": 528.8615892348779,\n        \"min\": 941.18,\n        \"max\": 2322.17,\n        \"num_unique_values\": 246,\n        \"samples\": [\n          2322.17\n        ],\n        \"semantic_type\": \"\",\n        \"description\": \"\"\n      }\n    },\n    {\n      \"column\": \"Volume\",\n      \"properties\": {\n        \"dtype\": \"number\",\n        \"std\": 2043627,\n        \"min\": 353652,\n        \"max\": 19155056,\n        \"num_unique_values\": 248,\n        \"samples\": [\n          2418406\n        ],\n        \"semantic_type\": \"\",\n        \"description\": \"\"\n      }\n    },\n    {\n      \"column\": \"Turnover\",\n      \"properties\": {\n        \"dtype\": \"number\",\n        \"std\": 270833748704092.53,\n        \"min\": 39234810195000.0,\n        \"max\": 2285438887015000.0,\n        \"num_unique_values\": 248,\n        \"samples\": [\n          561593834135000.06\n        ],\n        \"semantic_type\": \"\",\n        \"description\": \"\"\n      }\n    },\n    {\n      \"column\": \"Trades\",\n      \"properties\": {\n        \"dtype\": \"number\",\n        \"std\": 50541,\n        \"min\": 13196,\n        \"max\": 408583,\n        \"num_unique_values\": 248,\n        \"samples\": [\n          61974\n        ],\n        \"semantic_type\": \"\",\n        \"description\": \"\"\n      }\n    },\n    {\n      \"column\": \"Deliverable Volume\",\n      \"properties\": {\n        \"dtype\": \"number\",\n        \"std\": 1113895,\n        \"min\": 166222,\n        \"max\": 9575992,\n        \"num_unique_values\": 248,\n        \"samples\": [\n          1750981\n        ],\n        \"semantic_type\": \"\",\n        \"description\": \"\"\n      }\n    },\n    {\n      \"column\": \"%Deliverble\",\n      \"properties\": {\n        \"dtype\": \"number\",\n        \"std\": 0.08566264221938298,\n        \"min\": 0.3004,\n        \"max\": 0.8532,\n        \"num_unique_values\": 239,\n        \"samples\": [\n          0.6820999999999999\n        ],\n        \"semantic_type\": \"\",\n        \"description\": \"\"\n      }\n    }\n  ]\n}"
            }
          },
          "metadata": {},
          "execution_count": 9
        }
      ],
      "source": [
        "df = pd.read_csv('infy_stock.csv')\n",
        "df.head()"
      ]
    },
    {
      "cell_type": "markdown",
      "id": "9a96a6b8-827a-40ba-b9dd-78281d82a2fc",
      "metadata": {
        "id": "9a96a6b8-827a-40ba-b9dd-78281d82a2fc"
      },
      "source": [
        "Let's plot this series using [`NixtlaClient`](https://nixtlaverse.nixtla.io/nixtla/nixtla_client.html#nixtlaclient):"
      ]
    },
    {
      "cell_type": "code",
      "execution_count": 10,
      "id": "b0462374-2d4c-4975-bb23-21b5bfc94d9a",
      "metadata": {
        "id": "b0462374-2d4c-4975-bb23-21b5bfc94d9a",
        "outputId": "9570b46c-629a-4339-dc53-46880d734c34",
        "colab": {
          "base_uri": "https://localhost:8080/",
          "height": 248
        }
      },
      "outputs": [
        {
          "output_type": "execute_result",
          "data": {
            "text/plain": [
              "<Figure size 1600x350 with 1 Axes>"
            ],
            "image/png": "[encoded data removed]"
          },
          "metadata": {},
          "execution_count": 10
        }
      ],
      "source": [
        "df['ds'] = df['Date']\n",
        "df['y'] = df['Close']\n",
        "nixtla_client.plot(df)"
      ]
    },
    {
      "cell_type": "markdown",
      "id": "51d11ba4",
      "metadata": {
        "id": "51d11ba4"
      },
      "source": [
        "## 3. Forecasting Multiple Series"
      ]
    },
    {
      "cell_type": "markdown",
      "id": "1dbe558a-ac0f-475b-abd6-838121863307",
      "metadata": {
        "id": "1dbe558a-ac0f-475b-abd6-838121863307"
      },
      "source": [
        "To forecast all series at once, we simply pass the dataframe to the `df` argument. TimeGPt will automatically forecast all series."
      ]
    },
    {
      "cell_type": "code",
      "execution_count": 11,
      "id": "09211e3a-15e5-4b37-8da2-36d515186771",
      "metadata": {
        "id": "09211e3a-15e5-4b37-8da2-36d515186771",
        "outputId": "f6ffffac-e577-4bfe-dbdf-3213b52cefaf",
        "colab": {
          "base_uri": "https://localhost:8080/",
          "height": 387
        }
      },
      "outputs": [
        {
          "output_type": "stream",
          "name": "stdout",
          "text": [
            "<TimedeltaArray>\n",
            "[NaT, '1 days', '3 days', '4 days', '2 days', '5 days']\n",
            "Length: 6, dtype: timedelta64[ns]\n",
            "Empty DataFrame\n",
            "Columns: [Date, Symbol, Series, Prev Close, Open, High, Low, Last, Close, VWAP, Volume, Turnover, Trades, Deliverable Volume, %Deliverble, ds, y]\n",
            "Index: []\n"
          ]
        },
        {
          "output_type": "stream",
          "name": "stderr",
          "text": [
            "/usr/local/lib/python3.10/dist-packages/nixtla/nixtla_client.py:360: UserWarning: `df` contains the following exogenous features: ['Date', 'Symbol', 'Series', 'Prev Close', 'Open', 'High', 'Low', 'Last', 'Close', 'VWAP', 'Volume', 'Turnover', 'Trades', 'Deliverable Volume', '%Deliverble'], but `X_df` was not provided and they were not declared in `hist_exog_list`. They will be ignored.\n",
            "  warnings.warn(\n",
            "WARNING:nixtla.nixtla_client:The specified horizon \"h\" exceeds the model horizon. This may lead to less accurate forecasts. Please consider using a smaller horizon.\n"
          ]
        },
        {
          "output_type": "execute_result",
          "data": {
            "text/plain": [
              "          ds    TimeGPT  TimeGPT-hi-80  TimeGPT-hi-90  TimeGPT-lo-80  \\\n",
              "0 2016-01-01  1101.5563      1123.1486      1125.1562      1079.9640   \n",
              "1 2016-01-02  1097.9387      1114.2318      1126.3687      1081.6456   \n",
              "2 2016-01-03  1099.8928      1112.7262      1129.9270      1087.0594   \n",
              "3 2016-01-04  1104.2954      1135.9956      1136.8258      1072.5952   \n",
              "4 2016-01-05  1102.8676      1131.5206      1133.4241      1074.2145   \n",
              "\n",
              "   TimeGPT-lo-90  \n",
              "0      1077.9563  \n",
              "1      1069.5088  \n",
              "2      1069.8586  \n",
              "3      1071.7650  \n",
              "4      1072.3110  "
            ],
            "text/html": [
              "\n",
              "  <div id=\"df-e43c60ce-6ed6-45e0-a244-494d250b3437\" class=\"colab-df-container\">\n",
              "    <div>\n",
              "<style scoped>\n",
              "    .dataframe tbody tr th:only-of-type {\n",
              "        vertical-align: middle;\n",
              "    }\n",
              "\n",
              "    .dataframe tbody tr th {\n",
              "        vertical-align: top;\n",
              "    }\n",
              "\n",
              "    .dataframe thead th {\n",
              "        text-align: right;\n",
              "    }\n",
              "</style>\n",
              "<table border=\"1\" class=\"dataframe\">\n",
              "  <thead>\n",
              "    <tr style=\"text-align: right;\">\n",
              "      <th></th>\n",
              "      <th>ds</th>\n",
              "      <th>TimeGPT</th>\n",
              "      <th>TimeGPT-hi-80</th>\n",
              "      <th>TimeGPT-hi-90</th>\n",
              "      <th>TimeGPT-lo-80</th>\n",
              "      <th>TimeGPT-lo-90</th>\n",
              "    </tr>\n",
              "  </thead>\n",
              "  <tbody>\n",
              "    <tr>\n",
              "      <th>0</th>\n",
              "      <td>2016-01-01</td>\n",
              "      <td>1101.5563</td>\n",
              "      <td>1123.1486</td>\n",
              "      <td>1125.1562</td>\n",
              "      <td>1079.9640</td>\n",
              "      <td>1077.9563</td>\n",
              "    </tr>\n",
              "    <tr>\n",
              "      <th>1</th>\n",
              "      <td>2016-01-02</td>\n",
              "      <td>1097.9387</td>\n",
              "      <td>1114.2318</td>\n",
              "      <td>1126.3687</td>\n",
              "      <td>1081.6456</td>\n",
              "      <td>1069.5088</td>\n",
              "    </tr>\n",
              "    <tr>\n",
              "      <th>2</th>\n",
              "      <td>2016-01-03</td>\n",
              "      <td>1099.8928</td>\n",
              "      <td>1112.7262</td>\n",
              "      <td>1129.9270</td>\n",
              "      <td>1087.0594</td>\n",
              "      <td>1069.8586</td>\n",
              "    </tr>\n",
              "    <tr>\n",
              "      <th>3</th>\n",
              "      <td>2016-01-04</td>\n",
              "      <td>1104.2954</td>\n",
              "      <td>1135.9956</td>\n",
              "      <td>1136.8258</td>\n",
              "      <td>1072.5952</td>\n",
              "      <td>1071.7650</td>\n",
              "    </tr>\n",
              "    <tr>\n",
              "      <th>4</th>\n",
              "      <td>2016-01-05</td>\n",
              "      <td>1102.8676</td>\n",
              "      <td>1131.5206</td>\n",
              "      <td>1133.4241</td>\n",
              "      <td>1074.2145</td>\n",
              "      <td>1072.3110</td>\n",
              "    </tr>\n",
              "  </tbody>\n",
              "</table>\n",
              "</div>\n",
              "    <div class=\"colab-df-buttons\">\n",
              "\n",
              "  <div class=\"colab-df-container\">\n",
              "    <button class=\"colab-df-convert\" onclick=\"convertToInteractive('df-e43c60ce-6ed6-45e0-a244-494d250b3437')\"\n",
              "            title=\"Convert this dataframe to an interactive table.\"\n",
              "            style=\"display:none;\">\n",
              "\n",
              "  <svg xmlns=\"http://www.w3.org/2000/svg\" height=\"24px\" viewBox=\"0 -960 960 960\">\n",
              "    <path d=\"M120-120v-720h720v720H120Zm60-500h600v-160H180v160Zm220 220h160v-160H400v160Zm0 220h160v-160H400v160ZM180-400h160v-160H180v160Zm440 0h160v-160H620v160ZM180-180h160v-160H180v160Zm440 0h160v-160H620v160Z\"/>\n",
              "  </svg>\n",
              "    </button>\n",
              "\n",
              "  <style>\n",
              "    .colab-df-container {\n",
              "      display:flex;\n",
              "      gap: 12px;\n",
              "    }\n",
              "\n",
              "    .colab-df-convert {\n",
              "      background-color: #E8F0FE;\n",
              "      border: none;\n",
              "      border-radius: 50%;\n",
              "      cursor: pointer;\n",
              "      display: none;\n",
              "      fill: #1967D2;\n",
              "      height: 32px;\n",
              "      padding: 0 0 0 0;\n",
              "      width: 32px;\n",
              "    }\n",
              "\n",
              "    .colab-df-convert:hover {\n",
              "      background-color: #E2EBFA;\n",
              "      box-shadow: 0px 1px 2px rgba(60, 64, 67, 0.3), 0px 1px 3px 1px rgba(60, 64, 67, 0.15);\n",
              "      fill: #174EA6;\n",
              "    }\n",
              "\n",
              "    .colab-df-buttons div {\n",
              "      margin-bottom: 4px;\n",
              "    }\n",
              "\n",
              "    [theme=dark] .colab-df-convert {\n",
              "      background-color: #3B4455;\n",
              "      fill: #D2E3FC;\n",
              "    }\n",
              "\n",
              "    [theme=dark] .colab-df-convert:hover {\n",
              "      background-color: #434B5C;\n",
              "      box-shadow: 0px 1px 3px 1px rgba(0, 0, 0, 0.15);\n",
              "      filter: drop-shadow(0px 1px 2px rgba(0, 0, 0, 0.3));\n",
              "      fill: #FFFFFF;\n",
              "    }\n",
              "  </style>\n",
              "\n",
              "    <script>\n",
              "      const buttonEl =\n",
              "        document.querySelector('#df-e43c60ce-6ed6-45e0-a244-494d250b3437 button.colab-df-convert');\n",
              "      buttonEl.style.display =\n",
              "        google.colab.kernel.accessAllowed ? 'block' : 'none';\n",
              "\n",
              "      async function convertToInteractive(key) {\n",
              "        const element = document.querySelector('#df-e43c60ce-6ed6-45e0-a244-494d250b3437');\n",
              "        const dataTable =\n",
              "          await google.colab.kernel.invokeFunction('convertToInteractive',\n",
              "                                                    [key], {});\n",
              "        if (!dataTable) return;\n",
              "\n",
              "        const docLinkHtml = 'Like what you see? Visit the ' +\n",
              "          '<a target=\"_blank\" href=https://colab.research.google.com/notebooks/data_table.ipynb>data table notebook</a>'\n",
              "          + ' to learn more about interactive tables.';\n",
              "        element.innerHTML = '';\n",
              "        dataTable['output_type'] = 'display_data';\n",
              "        await google.colab.output.renderOutput(dataTable, element);\n",
              "        const docLink = document.createElement('div');\n",
              "        docLink.innerHTML = docLinkHtml;\n",
              "        element.appendChild(docLink);\n",
              "      }\n",
              "    </script>\n",
              "  </div>\n",
              "\n",
              "\n",
              "<div id=\"df-8a4f6be8-b7bd-4e61-93f0-3de56d0ed575\">\n",
              "  <button class=\"colab-df-quickchart\" onclick=\"quickchart('df-8a4f6be8-b7bd-4e61-93f0-3de56d0ed575')\"\n",
              "            title=\"Suggest charts\"\n",
              "            style=\"display:none;\">\n",
              "\n",
              "<svg xmlns=\"http://www.w3.org/2000/svg\" height=\"24px\"viewBox=\"0 0 24 24\"\n",
              "     width=\"24px\">\n",
              "    <g>\n",
              "        <path d=\"M19 3H5c-1.1 0-2 .9-2 2v14c0 1.1.9 2 2 2h14c1.1 0 2-.9 2-2V5c0-1.1-.9-2-2-2zM9 17H7v-7h2v7zm4 0h-2V7h2v10zm4 0h-2v-4h2v4z\"/>\n",
              "    </g>\n",
              "</svg>\n",
              "  </button>\n",
              "\n",
              "<style>\n",
              "  .colab-df-quickchart {\n",
              "      --bg-color: #E8F0FE;\n",
              "      --fill-color: #1967D2;\n",
              "      --hover-bg-color: #E2EBFA;\n",
              "      --hover-fill-color: #174EA6;\n",
              "      --disabled-fill-color: #AAA;\n",
              "      --disabled-bg-color: #DDD;\n",
              "  }\n",
              "\n",
              "  [theme=dark] .colab-df-quickchart {\n",
              "      --bg-color: #3B4455;\n",
              "      --fill-color: #D2E3FC;\n",
              "      --hover-bg-color: #434B5C;\n",
              "      --hover-fill-color: #FFFFFF;\n",
              "      --disabled-bg-color: #3B4455;\n",
              "      --disabled-fill-color: #666;\n",
              "  }\n",
              "\n",
              "  .colab-df-quickchart {\n",
              "    background-color: var(--bg-color);\n",
              "    border: none;\n",
              "    border-radius: 50%;\n",
              "    cursor: pointer;\n",
              "    display: none;\n",
              "    fill: var(--fill-color);\n",
              "    height: 32px;\n",
              "    padding: 0;\n",
              "    width: 32px;\n",
              "  }\n",
              "\n",
              "  .colab-df-quickchart:hover {\n",
              "    background-color: var(--hover-bg-color);\n",
              "    box-shadow: 0 1px 2px rgba(60, 64, 67, 0.3), 0 1px 3px 1px rgba(60, 64, 67, 0.15);\n",
              "    fill: var(--button-hover-fill-color);\n",
              "  }\n",
              "\n",
              "  .colab-df-quickchart-complete:disabled,\n",
              "  .colab-df-quickchart-complete:disabled:hover {\n",
              "    background-color: var(--disabled-bg-color);\n",
              "    fill: var(--disabled-fill-color);\n",
              "    box-shadow: none;\n",
              "  }\n",
              "\n",
              "  .colab-df-spinner {\n",
              "    border: 2px solid var(--fill-color);\n",
              "    border-color: transparent;\n",
              "    border-bottom-color: var(--fill-color);\n",
              "    animation:\n",
              "      spin 1s steps(1) infinite;\n",
              "  }\n",
              "\n",
              "  @keyframes spin {\n",
              "    0% {\n",
              "      border-color: transparent;\n",
              "      border-bottom-color: var(--fill-color);\n",
              "      border-left-color: var(--fill-color);\n",
              "    }\n",
              "    20% {\n",
              "      border-color: transparent;\n",
              "      border-left-color: var(--fill-color);\n",
              "      border-top-color: var(--fill-color);\n",
              "    }\n",
              "    30% {\n",
              "      border-color: transparent;\n",
              "      border-left-color: var(--fill-color);\n",
              "      border-top-color: var(--fill-color);\n",
              "      border-right-color: var(--fill-color);\n",
              "    }\n",
              "    40% {\n",
              "      border-color: transparent;\n",
              "      border-right-color: var(--fill-color);\n",
              "      border-top-color: var(--fill-color);\n",
              "    }\n",
              "    60% {\n",
              "      border-color: transparent;\n",
              "      border-right-color: var(--fill-color);\n",
              "    }\n",
              "    80% {\n",
              "      border-color: transparent;\n",
              "      border-right-color: var(--fill-color);\n",
              "      border-bottom-color: var(--fill-color);\n",
              "    }\n",
              "    90% {\n",
              "      border-color: transparent;\n",
              "      border-bottom-color: var(--fill-color);\n",
              "    }\n",
              "  }\n",
              "</style>\n",
              "\n",
              "  <script>\n",
              "    async function quickchart(key) {\n",
              "      const quickchartButtonEl =\n",
              "        document.querySelector('#' + key + ' button');\n",
              "      quickchartButtonEl.disabled = true;  // To prevent multiple clicks.\n",
              "      quickchartButtonEl.classList.add('colab-df-spinner');\n",
              "      try {\n",
              "        const charts = await google.colab.kernel.invokeFunction(\n",
              "            'suggestCharts', [key], {});\n",
              "      } catch (error) {\n",
              "        console.error('Error during call to suggestCharts:', error);\n",
              "      }\n",
              "      quickchartButtonEl.classList.remove('colab-df-spinner');\n",
              "      quickchartButtonEl.classList.add('colab-df-quickchart-complete');\n",
              "    }\n",
              "    (() => {\n",
              "      let quickchartButtonEl =\n",
              "        document.querySelector('#df-8a4f6be8-b7bd-4e61-93f0-3de56d0ed575 button');\n",
              "      quickchartButtonEl.style.display =\n",
              "        google.colab.kernel.accessAllowed ? 'block' : 'none';\n",
              "    })();\n",
              "  </script>\n",
              "</div>\n",
              "\n",
              "    </div>\n",
              "  </div>\n"
            ],
            "application/vnd.google.colaboratory.intrinsic+json": {
              "type": "dataframe",
              "variable_name": "timegpt_fcst_multiseries_df",
              "summary": "{\n  \"name\": \"timegpt_fcst_multiseries_df\",\n  \"rows\": 24,\n  \"fields\": [\n    {\n      \"column\": \"ds\",\n      \"properties\": {\n        \"dtype\": \"date\",\n        \"min\": \"2016-01-01 00:00:00\",\n        \"max\": \"2016-01-24 00:00:00\",\n        \"num_unique_values\": 24,\n        \"samples\": [\n          \"2016-01-09 00:00:00\",\n          \"2016-01-17 00:00:00\",\n          \"2016-01-01 00:00:00\"\n        ],\n        \"semantic_type\": \"\",\n        \"description\": \"\"\n      }\n    },\n    {\n      \"column\": \"TimeGPT\",\n      \"properties\": {\n        \"dtype\": \"number\",\n        \"std\": 1.38092318889329,\n        \"min\": 1097.9387,\n        \"max\": 1104.2954,\n        \"num_unique_values\": 24,\n        \"samples\": [\n          1100.0952,\n          1100.9027,\n          1101.5563\n        ],\n        \"semantic_type\": \"\",\n        \"description\": \"\"\n      }\n    },\n    {\n      \"column\": \"TimeGPT-hi-80\",\n      \"properties\": {\n        \"dtype\": \"number\",\n        \"std\": 9.03261740454773,\n        \"min\": 1112.7262,\n        \"max\": 1135.9956,\n        \"num_unique_values\": 24,\n        \"samples\": [\n          1116.3883,\n          1113.7361,\n          1123.1486\n        ],\n        \"semantic_type\": \"\",\n        \"description\": \"\"\n      }\n    },\n    {\n      \"column\": \"TimeGPT-hi-90\",\n      \"properties\": {\n        \"dtype\": \"number\",\n        \"std\": 13.256294792466138,\n        \"min\": 1124.667,\n        \"max\": 1162.0488,\n        \"num_unique_values\": 24,\n        \"samples\": [\n          1128.5251,\n          1130.9369,\n          1125.1562\n        ],\n        \"semantic_type\": \"\",\n        \"description\": \"\"\n      }\n    },\n    {\n      \"column\": \"TimeGPT-lo-80\",\n      \"properties\": {\n        \"dtype\": \"number\",\n        \"std\": 7.2122603499431674,\n        \"min\": 1067.0803,\n        \"max\": 1088.9912,\n        \"num_unique_values\": 24,\n        \"samples\": [\n          1083.8021,\n          1088.0693,\n          1079.964\n        ],\n        \"semantic_type\": \"\",\n        \"description\": \"\"\n      }\n    },\n    {\n      \"column\": \"TimeGPT-lo-90\",\n      \"properties\": {\n        \"dtype\": \"number\",\n        \"std\": 12.561191575515192,\n        \"min\": 1042.4802,\n        \"max\": 1077.9563,\n        \"num_unique_values\": 24,\n        \"samples\": [\n          1071.6653,\n          1070.8685,\n          1077.9563\n        ],\n        \"semantic_type\": \"\",\n        \"description\": \"\"\n      }\n    }\n  ]\n}"
            }
          },
          "metadata": {},
          "execution_count": 11
        }
      ],
      "source": [
        "import pandas as pd\n",
        "\n",
        "# 1. Check for irregular or missing timestamps\n",
        "# Convert 'Date' column to datetime if it's not already\n",
        "df['Date'] = pd.to_datetime(df['Date'])\n",
        "\n",
        "# Calculate the difference between consecutive timestamps\n",
        "time_diffs = df['Date'].diff()\n",
        "\n",
        "# Check for inconsistent time differences\n",
        "print(time_diffs.unique())\n",
        "\n",
        "# If there are inconsistent differences, you need to resample or interpolate\n",
        "# your data to a regular frequency (e.g., daily, hourly, etc.).\n",
        "\n",
        "# 2. Check for duplicate timestamps\n",
        "print(df[df['Date'].duplicated()])\n",
        "\n",
        "# If there are duplicates, you need to decide how to handle them\n",
        "# (e.g., remove them, average the values, etc.).\n",
        "\n",
        "# 3. Resample to a regular frequency (if necessary)\n",
        "# Example: Resample to daily frequency and fill missing values with forward fill\n",
        "df = df.set_index('Date').resample('D').ffill().reset_index() # Resample to daily frequency to ensure regularity\n",
        "\n",
        "# 4. Explicitly specify the frequency when calling forecast\n",
        "timegpt_fcst_multiseries_df = nixtla_client.forecast(df=df, h=24, level=[80, 90], freq='D') # Replace 'D' with your desired frequency\n",
        "timegpt_fcst_multiseries_df.head()"
      ]
    },
    {
      "cell_type": "code",
      "execution_count": 13,
      "id": "1f7773f0-a5e3-4314-891e-3acc9b558acb",
      "metadata": {
        "id": "1f7773f0-a5e3-4314-891e-3acc9b558acb",
        "outputId": "fd4d0927-8b90-4330-fb55-482792f95d43",
        "colab": {
          "base_uri": "https://localhost:8080/",
          "height": 233
        }
      },
      "outputs": [
        {
          "output_type": "execute_result",
          "data": {
            "text/plain": [
              "<Figure size 1600x350 with 1 Axes>"
            ],
            "image/png": "[encoded data removed]"
          },
          "metadata": {},
          "execution_count": 13
        }
      ],
      "source": [
        "nixtla_client.plot(df, timegpt_fcst_multiseries_df, max_insample_length=365, level=[80, 90])"
      ]
    },
    {
      "cell_type": "markdown",
      "source": [
        "LONG HORIZON COLAB"
      ],
      "metadata": {
        "id": "hiRTMZAjYMkh"
      },
      "id": "hiRTMZAjYMkh"
    },
    {
      "cell_type": "code",
      "source": [
        "!pip install datasetsforecast"
      ],
      "metadata": {
        "colab": {
          "base_uri": "https://localhost:8080/"
        },
        "id": "Ov4WNesDYb6N",
        "outputId": "16024caa-881b-46aa-ae0b-ed8ea57cc69d"
      },
      "id": "Ov4WNesDYb6N",
      "execution_count": 14,
      "outputs": [
        {
          "output_type": "stream",
          "name": "stdout",
          "text": [
            "Collecting datasetsforecast\n",
            "  Downloading datasetsforecast-0.0.8-py3-none-any.whl.metadata (1.1 kB)\n",
            "Requirement already satisfied: aiohttp in /usr/local/lib/python3.10/dist-packages (from datasetsforecast) (3.10.10)\n",
            "Collecting fugue>=0.8.1 (from datasetsforecast)\n",
            "  Downloading fugue-0.9.1-py3-none-any.whl.metadata (18 kB)\n",
            "Requirement already satisfied: numba in /usr/local/lib/python3.10/dist-packages (from datasetsforecast) (0.60.0)\n",
            "Requirement already satisfied: numpy in /usr/local/lib/python3.10/dist-packages (from datasetsforecast) (1.26.4)\n",
            "Requirement already satisfied: pandas in /usr/local/lib/python3.10/dist-packages (from datasetsforecast) (2.2.2)\n",
            "Requirement already satisfied: requests in /usr/local/lib/python3.10/dist-packages (from datasetsforecast) (2.32.3)\n",
            "Requirement already satisfied: tqdm in /usr/local/lib/python3.10/dist-packages (from datasetsforecast) (4.66.6)\n",
            "Requirement already satisfied: xlrd>=1.0.0 in /usr/local/lib/python3.10/dist-packages (from datasetsforecast) (2.0.1)\n",
            "Collecting triad>=0.9.7 (from fugue>=0.8.1->datasetsforecast)\n",
            "  Downloading triad-0.9.8-py3-none-any.whl.metadata (6.3 kB)\n",
            "Collecting adagio>=0.2.4 (from fugue>=0.8.1->datasetsforecast)\n",
            "  Downloading adagio-0.2.6-py3-none-any.whl.metadata (1.8 kB)\n",
            "Requirement already satisfied: aiohappyeyeballs>=2.3.0 in /usr/local/lib/python3.10/dist-packages (from aiohttp->datasetsforecast) (2.4.3)\n",
            "Requirement already satisfied: aiosignal>=1.1.2 in /usr/local/lib/python3.10/dist-packages (from aiohttp->datasetsforecast) (1.3.1)\n",
            "Requirement already satisfied: attrs>=17.3.0 in /usr/local/lib/python3.10/dist-packages (from aiohttp->datasetsforecast) (24.2.0)\n",
            "Requirement already satisfied: frozenlist>=1.1.1 in /usr/local/lib/python3.10/dist-packages (from aiohttp->datasetsforecast) (1.5.0)\n",
            "Requirement already satisfied: multidict<7.0,>=4.5 in /usr/local/lib/python3.10/dist-packages (from aiohttp->datasetsforecast) (6.1.0)\n",
            "Requirement already satisfied: yarl<2.0,>=1.12.0 in /usr/local/lib/python3.10/dist-packages (from aiohttp->datasetsforecast) (1.17.1)\n",
            "Requirement already satisfied: async-timeout<5.0,>=4.0 in /usr/local/lib/python3.10/dist-packages (from aiohttp->datasetsforecast) (4.0.3)\n",
            "Requirement already satisfied: llvmlite<0.44,>=0.43.0dev0 in /usr/local/lib/python3.10/dist-packages (from numba->datasetsforecast) (0.43.0)\n",
            "Requirement already satisfied: python-dateutil>=2.8.2 in /usr/local/lib/python3.10/dist-packages (from pandas->datasetsforecast) (2.8.2)\n",
            "Requirement already satisfied: pytz>=2020.1 in /usr/local/lib/python3.10/dist-packages (from pandas->datasetsforecast) (2024.2)\n",
            "Requirement already satisfied: tzdata>=2022.7 in /usr/local/lib/python3.10/dist-packages (from pandas->datasetsforecast) (2024.2)\n",
            "Requirement already satisfied: charset-normalizer<4,>=2 in /usr/local/lib/python3.10/dist-packages (from requests->datasetsforecast) (3.4.0)\n",
            "Requirement already satisfied: idna<4,>=2.5 in /usr/local/lib/python3.10/dist-packages (from requests->datasetsforecast) (3.10)\n",
            "Requirement already satisfied: urllib3<3,>=1.21.1 in /usr/local/lib/python3.10/dist-packages (from requests->datasetsforecast) (2.2.3)\n",
            "Requirement already satisfied: certifi>=2017.4.17 in /usr/local/lib/python3.10/dist-packages (from requests->datasetsforecast) (2024.8.30)\n",
            "Requirement already satisfied: typing-extensions>=4.1.0 in /usr/local/lib/python3.10/dist-packages (from multidict<7.0,>=4.5->aiohttp->datasetsforecast) (4.12.2)\n",
            "Requirement already satisfied: six>=1.5 in /usr/local/lib/python3.10/dist-packages (from python-dateutil>=2.8.2->pandas->datasetsforecast) (1.16.0)\n",
            "Requirement already satisfied: pyarrow>=6.0.1 in /usr/local/lib/python3.10/dist-packages (from triad>=0.9.7->fugue>=0.8.1->datasetsforecast) (17.0.0)\n",
            "Requirement already satisfied: fsspec>=2022.5.0 in /usr/local/lib/python3.10/dist-packages (from triad>=0.9.7->fugue>=0.8.1->datasetsforecast) (2024.10.0)\n",
            "Collecting fs (from triad>=0.9.7->fugue>=0.8.1->datasetsforecast)\n",
            "  Downloading fs-2.4.16-py2.py3-none-any.whl.metadata (6.3 kB)\n",
            "Requirement already satisfied: propcache>=0.2.0 in /usr/local/lib/python3.10/dist-packages (from yarl<2.0,>=1.12.0->aiohttp->datasetsforecast) (0.2.0)\n",
            "Collecting appdirs~=1.4.3 (from fs->triad>=0.9.7->fugue>=0.8.1->datasetsforecast)\n",
            "  Downloading appdirs-1.4.4-py2.py3-none-any.whl.metadata (9.0 kB)\n",
            "Requirement already satisfied: setuptools in /usr/local/lib/python3.10/dist-packages (from fs->triad>=0.9.7->fugue>=0.8.1->datasetsforecast) (75.1.0)\n",
            "Downloading datasetsforecast-0.0.8-py3-none-any.whl (27 kB)\n",
            "Downloading fugue-0.9.1-py3-none-any.whl (278 kB)\n",
            "\u001b[2K   \u001b[90m━━━━━━━━━━━━━━━━━━━━━━━━━━━━━━━━━━━━━━━━\u001b[0m \u001b[32m278.2/278.2 kB\u001b[0m \u001b[31m9.4 MB/s\u001b[0m eta \u001b[36m0:00:00\u001b[0m\n",
            "\u001b[?25hDownloading adagio-0.2.6-py3-none-any.whl (19 kB)\n",
            "Downloading triad-0.9.8-py3-none-any.whl (62 kB)\n",
            "\u001b[2K   \u001b[90m━━━━━━━━━━━━━━━━━━━━━━━━━━━━━━━━━━━━━━━━\u001b[0m \u001b[32m62.3/62.3 kB\u001b[0m \u001b[31m4.2 MB/s\u001b[0m eta \u001b[36m0:00:00\u001b[0m\n",
            "\u001b[?25hDownloading fs-2.4.16-py2.py3-none-any.whl (135 kB)\n",
            "\u001b[2K   \u001b[90m━━━━━━━━━━━━━━━━━━━━━━━━━━━━━━━━━━━━━━━━\u001b[0m \u001b[32m135.3/135.3 kB\u001b[0m \u001b[31m9.0 MB/s\u001b[0m eta \u001b[36m0:00:00\u001b[0m\n",
            "\u001b[?25hDownloading appdirs-1.4.4-py2.py3-none-any.whl (9.6 kB)\n",
            "Installing collected packages: appdirs, fs, triad, adagio, fugue, datasetsforecast\n",
            "Successfully installed adagio-0.2.6 appdirs-1.4.4 datasetsforecast-0.0.8 fs-2.4.16 fugue-0.9.1 triad-0.9.8\n"
          ]
        }
      ]
    },
    {
      "cell_type": "markdown",
      "source": [
        "#Long-horizon forecasting"
      ],
      "metadata": {
        "id": "5VRqgSR1a2Ye"
      },
      "id": "5VRqgSR1a2Ye"
    },
    {
      "cell_type": "code",
      "source": [
        "from nixtla import NixtlaClient\n",
        "from datasetsforecast.long_horizon import LongHorizon\n",
        "from utilsforecast.losses import mae"
      ],
      "metadata": {
        "id": "A7f1OjhUYMTR"
      },
      "id": "A7f1OjhUYMTR",
      "execution_count": 15,
      "outputs": []
    },
    {
      "cell_type": "code",
      "source": [
        "nixtla_client = NixtlaClient(\n",
        "    # defaults to os.environ.get(\"NIXTLA_API_KEY\")\n",
        "    api_key = 'nixak-fcqNO2C0XCBQQozD5OW6GzOw4wmvrNCoP2xTklrHEThEU8vvytDeHZulh4Ja99fmFgnTyywsPfkVJzxh'\n",
        ")"
      ],
      "metadata": {
        "id": "mrHgtDShYhWm"
      },
      "id": "mrHgtDShYhWm",
      "execution_count": 16,
      "outputs": []
    },
    {
      "cell_type": "code",
      "source": [
        "Y_df, *_ = LongHorizon.load(directory='./', group='ETTh1')\n",
        "\n",
        "Y_df.head()"
      ],
      "metadata": {
        "colab": {
          "base_uri": "https://localhost:8080/",
          "height": 224
        },
        "id": "3zhrFhxAYnqj",
        "outputId": "86184684-fb60-442a-ab01-05b6bab22a7e"
      },
      "id": "3zhrFhxAYnqj",
      "execution_count": 17,
      "outputs": [
        {
          "output_type": "stream",
          "name": "stderr",
          "text": [
            "100%|██████████| 314M/314M [00:14<00:00, 22.0MiB/s]\n"
          ]
        },
        {
          "output_type": "execute_result",
          "data": {
            "text/plain": [
              "  unique_id                   ds         y\n",
              "0        OT  2016-07-01 00:00:00  1.460552\n",
              "1        OT  2016-07-01 01:00:00  1.161527\n",
              "2        OT  2016-07-01 02:00:00  1.161527\n",
              "3        OT  2016-07-01 03:00:00  0.862611\n",
              "4        OT  2016-07-01 04:00:00  0.525227"
            ],
            "text/html": [
              "\n",
              "  <div id=\"df-4e26b0ba-c234-4d1f-8bdf-442d665f1627\" class=\"colab-df-container\">\n",
              "    <div>\n",
              "<style scoped>\n",
              "    .dataframe tbody tr th:only-of-type {\n",
              "        vertical-align: middle;\n",
              "    }\n",
              "\n",
              "    .dataframe tbody tr th {\n",
              "        vertical-align: top;\n",
              "    }\n",
              "\n",
              "    .dataframe thead th {\n",
              "        text-align: right;\n",
              "    }\n",
              "</style>\n",
              "<table border=\"1\" class=\"dataframe\">\n",
              "  <thead>\n",
              "    <tr style=\"text-align: right;\">\n",
              "      <th></th>\n",
              "      <th>unique_id</th>\n",
              "      <th>ds</th>\n",
              "      <th>y</th>\n",
              "    </tr>\n",
              "  </thead>\n",
              "  <tbody>\n",
              "    <tr>\n",
              "      <th>0</th>\n",
              "      <td>OT</td>\n",
              "      <td>2016-07-01 00:00:00</td>\n",
              "      <td>1.460552</td>\n",
              "    </tr>\n",
              "    <tr>\n",
              "      <th>1</th>\n",
              "      <td>OT</td>\n",
              "      <td>2016-07-01 01:00:00</td>\n",
              "      <td>1.161527</td>\n",
              "    </tr>\n",
              "    <tr>\n",
              "      <th>2</th>\n",
              "      <td>OT</td>\n",
              "      <td>2016-07-01 02:00:00</td>\n",
              "      <td>1.161527</td>\n",
              "    </tr>\n",
              "    <tr>\n",
              "      <th>3</th>\n",
              "      <td>OT</td>\n",
              "      <td>2016-07-01 03:00:00</td>\n",
              "      <td>0.862611</td>\n",
              "    </tr>\n",
              "    <tr>\n",
              "      <th>4</th>\n",
              "      <td>OT</td>\n",
              "      <td>2016-07-01 04:00:00</td>\n",
              "      <td>0.525227</td>\n",
              "    </tr>\n",
              "  </tbody>\n",
              "</table>\n",
              "</div>\n",
              "    <div class=\"colab-df-buttons\">\n",
              "\n",
              "  <div class=\"colab-df-container\">\n",
              "    <button class=\"colab-df-convert\" onclick=\"convertToInteractive('df-4e26b0ba-c234-4d1f-8bdf-442d665f1627')\"\n",
              "            title=\"Convert this dataframe to an interactive table.\"\n",
              "            style=\"display:none;\">\n",
              "\n",
              "  <svg xmlns=\"http://www.w3.org/2000/svg\" height=\"24px\" viewBox=\"0 -960 960 960\">\n",
              "    <path d=\"M120-120v-720h720v720H120Zm60-500h600v-160H180v160Zm220 220h160v-160H400v160Zm0 220h160v-160H400v160ZM180-400h160v-160H180v160Zm440 0h160v-160H620v160ZM180-180h160v-160H180v160Zm440 0h160v-160H620v160Z\"/>\n",
              "  </svg>\n",
              "    </button>\n",
              "\n",
              "  <style>\n",
              "    .colab-df-container {\n",
              "      display:flex;\n",
              "      gap: 12px;\n",
              "    }\n",
              "\n",
              "    .colab-df-convert {\n",
              "      background-color: #E8F0FE;\n",
              "      border: none;\n",
              "      border-radius: 50%;\n",
              "      cursor: pointer;\n",
              "      display: none;\n",
              "      fill: #1967D2;\n",
              "      height: 32px;\n",
              "      padding: 0 0 0 0;\n",
              "      width: 32px;\n",
              "    }\n",
              "\n",
              "    .colab-df-convert:hover {\n",
              "      background-color: #E2EBFA;\n",
              "      box-shadow: 0px 1px 2px rgba(60, 64, 67, 0.3), 0px 1px 3px 1px rgba(60, 64, 67, 0.15);\n",
              "      fill: #174EA6;\n",
              "    }\n",
              "\n",
              "    .colab-df-buttons div {\n",
              "      margin-bottom: 4px;\n",
              "    }\n",
              "\n",
              "    [theme=dark] .colab-df-convert {\n",
              "      background-color: #3B4455;\n",
              "      fill: #D2E3FC;\n",
              "    }\n",
              "\n",
              "    [theme=dark] .colab-df-convert:hover {\n",
              "      background-color: #434B5C;\n",
              "      box-shadow: 0px 1px 3px 1px rgba(0, 0, 0, 0.15);\n",
              "      filter: drop-shadow(0px 1px 2px rgba(0, 0, 0, 0.3));\n",
              "      fill: #FFFFFF;\n",
              "    }\n",
              "  </style>\n",
              "\n",
              "    <script>\n",
              "      const buttonEl =\n",
              "        document.querySelector('#df-4e26b0ba-c234-4d1f-8bdf-442d665f1627 button.colab-df-convert');\n",
              "      buttonEl.style.display =\n",
              "        google.colab.kernel.accessAllowed ? 'block' : 'none';\n",
              "\n",
              "      async function convertToInteractive(key) {\n",
              "        const element = document.querySelector('#df-4e26b0ba-c234-4d1f-8bdf-442d665f1627');\n",
              "        const dataTable =\n",
              "          await google.colab.kernel.invokeFunction('convertToInteractive',\n",
              "                                                    [key], {});\n",
              "        if (!dataTable) return;\n",
              "\n",
              "        const docLinkHtml = 'Like what you see? Visit the ' +\n",
              "          '<a target=\"_blank\" href=https://colab.research.google.com/notebooks/data_table.ipynb>data table notebook</a>'\n",
              "          + ' to learn more about interactive tables.';\n",
              "        element.innerHTML = '';\n",
              "        dataTable['output_type'] = 'display_data';\n",
              "        await google.colab.output.renderOutput(dataTable, element);\n",
              "        const docLink = document.createElement('div');\n",
              "        docLink.innerHTML = docLinkHtml;\n",
              "        element.appendChild(docLink);\n",
              "      }\n",
              "    </script>\n",
              "  </div>\n",
              "\n",
              "\n",
              "<div id=\"df-0a6b4313-dea2-434a-adf8-aacaef26bf0c\">\n",
              "  <button class=\"colab-df-quickchart\" onclick=\"quickchart('df-0a6b4313-dea2-434a-adf8-aacaef26bf0c')\"\n",
              "            title=\"Suggest charts\"\n",
              "            style=\"display:none;\">\n",
              "\n",
              "<svg xmlns=\"http://www.w3.org/2000/svg\" height=\"24px\"viewBox=\"0 0 24 24\"\n",
              "     width=\"24px\">\n",
              "    <g>\n",
              "        <path d=\"M19 3H5c-1.1 0-2 .9-2 2v14c0 1.1.9 2 2 2h14c1.1 0 2-.9 2-2V5c0-1.1-.9-2-2-2zM9 17H7v-7h2v7zm4 0h-2V7h2v10zm4 0h-2v-4h2v4z\"/>\n",
              "    </g>\n",
              "</svg>\n",
              "  </button>\n",
              "\n",
              "<style>\n",
              "  .colab-df-quickchart {\n",
              "      --bg-color: #E8F0FE;\n",
              "      --fill-color: #1967D2;\n",
              "      --hover-bg-color: #E2EBFA;\n",
              "      --hover-fill-color: #174EA6;\n",
              "      --disabled-fill-color: #AAA;\n",
              "      --disabled-bg-color: #DDD;\n",
              "  }\n",
              "\n",
              "  [theme=dark] .colab-df-quickchart {\n",
              "      --bg-color: #3B4455;\n",
              "      --fill-color: #D2E3FC;\n",
              "      --hover-bg-color: #434B5C;\n",
              "      --hover-fill-color: #FFFFFF;\n",
              "      --disabled-bg-color: #3B4455;\n",
              "      --disabled-fill-color: #666;\n",
              "  }\n",
              "\n",
              "  .colab-df-quickchart {\n",
              "    background-color: var(--bg-color);\n",
              "    border: none;\n",
              "    border-radius: 50%;\n",
              "    cursor: pointer;\n",
              "    display: none;\n",
              "    fill: var(--fill-color);\n",
              "    height: 32px;\n",
              "    padding: 0;\n",
              "    width: 32px;\n",
              "  }\n",
              "\n",
              "  .colab-df-quickchart:hover {\n",
              "    background-color: var(--hover-bg-color);\n",
              "    box-shadow: 0 1px 2px rgba(60, 64, 67, 0.3), 0 1px 3px 1px rgba(60, 64, 67, 0.15);\n",
              "    fill: var(--button-hover-fill-color);\n",
              "  }\n",
              "\n",
              "  .colab-df-quickchart-complete:disabled,\n",
              "  .colab-df-quickchart-complete:disabled:hover {\n",
              "    background-color: var(--disabled-bg-color);\n",
              "    fill: var(--disabled-fill-color);\n",
              "    box-shadow: none;\n",
              "  }\n",
              "\n",
              "  .colab-df-spinner {\n",
              "    border: 2px solid var(--fill-color);\n",
              "    border-color: transparent;\n",
              "    border-bottom-color: var(--fill-color);\n",
              "    animation:\n",
              "      spin 1s steps(1) infinite;\n",
              "  }\n",
              "\n",
              "  @keyframes spin {\n",
              "    0% {\n",
              "      border-color: transparent;\n",
              "      border-bottom-color: var(--fill-color);\n",
              "      border-left-color: var(--fill-color);\n",
              "    }\n",
              "    20% {\n",
              "      border-color: transparent;\n",
              "      border-left-color: var(--fill-color);\n",
              "      border-top-color: var(--fill-color);\n",
              "    }\n",
              "    30% {\n",
              "      border-color: transparent;\n",
              "      border-left-color: var(--fill-color);\n",
              "      border-top-color: var(--fill-color);\n",
              "      border-right-color: var(--fill-color);\n",
              "    }\n",
              "    40% {\n",
              "      border-color: transparent;\n",
              "      border-right-color: var(--fill-color);\n",
              "      border-top-color: var(--fill-color);\n",
              "    }\n",
              "    60% {\n",
              "      border-color: transparent;\n",
              "      border-right-color: var(--fill-color);\n",
              "    }\n",
              "    80% {\n",
              "      border-color: transparent;\n",
              "      border-right-color: var(--fill-color);\n",
              "      border-bottom-color: var(--fill-color);\n",
              "    }\n",
              "    90% {\n",
              "      border-color: transparent;\n",
              "      border-bottom-color: var(--fill-color);\n",
              "    }\n",
              "  }\n",
              "</style>\n",
              "\n",
              "  <script>\n",
              "    async function quickchart(key) {\n",
              "      const quickchartButtonEl =\n",
              "        document.querySelector('#' + key + ' button');\n",
              "      quickchartButtonEl.disabled = true;  // To prevent multiple clicks.\n",
              "      quickchartButtonEl.classList.add('colab-df-spinner');\n",
              "      try {\n",
              "        const charts = await google.colab.kernel.invokeFunction(\n",
              "            'suggestCharts', [key], {});\n",
              "      } catch (error) {\n",
              "        console.error('Error during call to suggestCharts:', error);\n",
              "      }\n",
              "      quickchartButtonEl.classList.remove('colab-df-spinner');\n",
              "      quickchartButtonEl.classList.add('colab-df-quickchart-complete');\n",
              "    }\n",
              "    (() => {\n",
              "      let quickchartButtonEl =\n",
              "        document.querySelector('#df-0a6b4313-dea2-434a-adf8-aacaef26bf0c button');\n",
              "      quickchartButtonEl.style.display =\n",
              "        google.colab.kernel.accessAllowed ? 'block' : 'none';\n",
              "    })();\n",
              "  </script>\n",
              "</div>\n",
              "\n",
              "    </div>\n",
              "  </div>\n"
            ],
            "application/vnd.google.colaboratory.intrinsic+json": {
              "type": "dataframe",
              "variable_name": "Y_df",
              "summary": "{\n  \"name\": \"Y_df\",\n  \"rows\": 14400,\n  \"fields\": [\n    {\n      \"column\": \"unique_id\",\n      \"properties\": {\n        \"dtype\": \"category\",\n        \"num_unique_values\": 1,\n        \"samples\": [\n          \"OT\"\n        ],\n        \"semantic_type\": \"\",\n        \"description\": \"\"\n      }\n    },\n    {\n      \"column\": \"ds\",\n      \"properties\": {\n        \"dtype\": \"object\",\n        \"num_unique_values\": 14400,\n        \"samples\": [\n          \"2016-11-04 01:00:00\"\n        ],\n        \"semantic_type\": \"\",\n        \"description\": \"\"\n      }\n    },\n    {\n      \"column\": \"y\",\n      \"properties\": {\n        \"dtype\": \"number\",\n        \"std\": 0.9773938342204279,\n        \"min\": -2.3111515680975456,\n        \"max\": 3.147034982408268,\n        \"num_unique_values\": 669,\n        \"samples\": [\n          0.1955800569725013\n        ],\n        \"semantic_type\": \"\",\n        \"description\": \"\"\n      }\n    }\n  ]\n}"
            }
          },
          "metadata": {},
          "execution_count": 17
        }
      ]
    },
    {
      "cell_type": "code",
      "source": [
        "test = Y_df[-96:]             # 96 = 4 days x 24h/day\n",
        "input_seq = Y_df[-1104:-96]"
      ],
      "metadata": {
        "id": "p_zgm0WIYs08"
      },
      "id": "p_zgm0WIYs08",
      "execution_count": 18,
      "outputs": []
    },
    {
      "cell_type": "code",
      "source": [
        "\n",
        "\n",
        "fcst_df = nixtla_client.forecast(\n",
        "    df=input_seq,\n",
        "    h=96,\n",
        "    level=[90],\n",
        "    finetune_steps=10,\n",
        "    finetune_loss='mae',\n",
        "    model='timegpt-1-long-horizon',\n",
        "    time_col='ds',\n",
        "    target_col='y'\n",
        ")"
      ],
      "metadata": {
        "id": "Pt01jOf-YynU"
      },
      "id": "Pt01jOf-YynU",
      "execution_count": 19,
      "outputs": []
    },
    {
      "cell_type": "code",
      "source": [
        "nixtla_client.plot(Y_df[-168:], fcst_df, models=['TimeGPT'], level=[90], time_col='ds', target_col='y')\n"
      ],
      "metadata": {
        "colab": {
          "base_uri": "https://localhost:8080/",
          "height": 233
        },
        "id": "H4EM6WMcaLWi",
        "outputId": "5c5bd4bd-24c0-465f-ec38-db414cf7d576"
      },
      "id": "H4EM6WMcaLWi",
      "execution_count": 20,
      "outputs": [
        {
          "output_type": "execute_result",
          "data": {
            "text/plain": [
              "<Figure size 1600x350 with 1 Axes>"
            ],
            "image/png": "[encoded data removed]"
          },
          "metadata": {},
          "execution_count": 20
        }
      ]
    },
    {
      "cell_type": "code",
      "source": [
        "test = test.copy()\n",
        "\n",
        "test.loc[:, 'TimeGPT'] = fcst_df['TimeGPT'].values"
      ],
      "metadata": {
        "id": "EFIvVqflaQ_w"
      },
      "id": "EFIvVqflaQ_w",
      "execution_count": 21,
      "outputs": []
    },
    {
      "cell_type": "code",
      "source": [
        "evaluation = mae(test, models=['TimeGPT'], id_col='unique_id', target_col='y')\n",
        "\n",
        "print(evaluation)"
      ],
      "metadata": {
        "colab": {
          "base_uri": "https://localhost:8080/"
        },
        "id": "HVsBf5-RaS7j",
        "outputId": "aca15483-c9a1-41c7-e255-b78be08c2010"
      },
      "id": "HVsBf5-RaS7j",
      "execution_count": 22,
      "outputs": [
        {
          "output_type": "stream",
          "name": "stdout",
          "text": [
            "  unique_id   TimeGPT\n",
            "0        OT  0.205319\n"
          ]
        }
      ]
    },
    {
      "cell_type": "markdown",
      "source": [
        "Here, TimeGPT achieves a MAE of 0.205"
      ],
      "metadata": {
        "id": "IVxp5MeLaYOd"
      },
      "id": "IVxp5MeLaYOd"
    },
    {
      "cell_type": "markdown",
      "source": [],
      "metadata": {
        "id": "a87sv92YaXIT"
      },
      "id": "a87sv92YaXIT"
    }
  ],
  "metadata": {
    "kernelspec": {
      "display_name": "python3",
      "language": "python",
      "name": "python3"
    },
    "colab": {
      "provenance": [],
      "include_colab_link": true
    }
  },
  "nbformat": 4,
  "nbformat_minor": 5
}